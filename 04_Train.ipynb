{
 "cells": [
  {
   "cell_type": "code",
   "execution_count": null,
   "metadata": {},
   "outputs": [],
   "source": [
    "import os\n",
    "import numpy as np\n",
    "from ipywidgets import interact\n",
    "from matplotlib import pyplot as plt\n",
    "\n",
    "import tensorflow as tf\n",
    "from tensorflow.keras import layers, losses, optimizers, models\n",
    "\n",
    "from loss import *\n",
    "from network import *"
   ]
  },
  {
   "cell_type": "code",
   "execution_count": null,
   "metadata": {},
   "outputs": [],
   "source": [
    "def inter_plot(img1, img2):\n",
    "    max_idx = len(img1)\n",
    "    vmin = np.maximum(img1.max(axis = (1, 2, 3)), img2[-1].max(axis = (1, 2, 3)))\n",
    "    vmax = np.minimum(img1.min(axis = (1, 2, 3)), img2[-1].min(axis = (1, 2, 3)))\n",
    "    def plot(idx=0):\n",
    "        plt.figure(figsize=(12, 6))\n",
    "        \n",
    "        plt.subplot(121)\n",
    "        plt.imshow(img1[idx, ..., 0], vmin=0, vmax=1, cmap='gray')\n",
    "        plt.title(\"Input\")\n",
    "        \n",
    "        plt.subplot(122)\n",
    "        plt.imshow(img2[-1][idx, ..., 0], vmin=0, vmax=1, cmap='gray')\n",
    "        plt.title(\"Recon\")\n",
    "        \n",
    "    interact(plot, idx=(0, max_idx, 1))"
   ]
  },
  {
   "cell_type": "code",
   "execution_count": null,
   "metadata": {},
   "outputs": [],
   "source": [
    "t1 = np.load('./data/t1.npy')\n",
    "t2 = np.load('./data/t2.npy')\n",
    "\n",
    "t1 = t1/t1.max(axis=(1, 2, 3), keepdims=True)\n",
    "t2 = t2/t2.max(axis=(1, 2, 3), keepdims=True)"
   ]
  },
  {
   "cell_type": "code",
   "execution_count": null,
   "metadata": {},
   "outputs": [],
   "source": [
    "model = VAE(latent_dim=128, last_activation='sigmoid')\n",
    "\n",
    "recon_loss = losses.mse(model.input, model.output[-1])\n",
    "kl_loss = 1 + model.output[1] - tf.square(model.output[0]) - tf.exp(model.output[1])\n",
    "kl_loss = tf.reduce_sum(kl_loss, axis=-1)\n",
    "loss = 100*tf.reduce_mean(recon_loss) - tf.reduce_mean(kl_loss)\n",
    "model.add_loss(loss)\n",
    "\n",
    "model.compile(optimizer=optimizers.Adam(0.0001), loss = None)"
   ]
  },
  {
   "cell_type": "code",
   "execution_count": null,
   "metadata": {},
   "outputs": [],
   "source": [
    "model.fit(t1[:318], epochs=50, batch_size = 8, validation_data=[t1[318:], None, None])"
   ]
  },
  {
   "cell_type": "code",
   "execution_count": null,
   "metadata": {},
   "outputs": [],
   "source": [
    "pred = model.predict(t1[:24])"
   ]
  },
  {
   "cell_type": "code",
   "execution_count": null,
   "metadata": {},
   "outputs": [],
   "source": [
    "inter_plot(t1[:24], pred)"
   ]
  }
 ],
 "metadata": {
  "kernelspec": {
   "display_name": "Python 3",
   "language": "python",
   "name": "python3"
  },
  "language_info": {
   "codemirror_mode": {
    "name": "ipython",
    "version": 3
   },
   "file_extension": ".py",
   "mimetype": "text/x-python",
   "name": "python",
   "nbconvert_exporter": "python",
   "pygments_lexer": "ipython3",
   "version": "3.6.8"
  }
 },
 "nbformat": 4,
 "nbformat_minor": 2
}
