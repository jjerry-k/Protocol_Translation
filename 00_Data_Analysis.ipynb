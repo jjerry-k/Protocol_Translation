{
 "cells": [
  {
   "cell_type": "code",
   "execution_count": 1,
   "metadata": {},
   "outputs": [],
   "source": [
    "import os, cv2\n",
    "import numpy as np\n",
    "import nibabel as nib\n",
    "from matplotlib import pyplot as plt"
   ]
  },
  {
   "cell_type": "code",
   "execution_count": 3,
   "metadata": {},
   "outputs": [],
   "source": [
    "root = './data'\n",
    "seq = ['t1','t2']"
   ]
  },
  {
   "cell_type": "code",
   "execution_count": 4,
   "metadata": {},
   "outputs": [],
   "source": [
    "t1_path = os.path.join(root, seq[0])\n",
    "t2_path = os.path.join(root, seq[1])"
   ]
  },
  {
   "cell_type": "code",
   "execution_count": 8,
   "metadata": {},
   "outputs": [
    {
     "name": "stdout",
     "output_type": "stream",
     "text": [
      "Number of T1 image :  16\n",
      "Number of T2 image :  16\n"
     ]
    }
   ],
   "source": [
    "t1_nii_list = sorted(os.listdir(t1_path))\n",
    "t2_nii_list = sorted(os.listdir(t2_path))\n",
    "\n",
    "print(\"Number of T1 image : \", len(t1_nii_list))\n",
    "print(\"Number of T2 image : \", len(t2_nii_list))"
   ]
  },
  {
   "cell_type": "code",
   "execution_count": 14,
   "metadata": {},
   "outputs": [
    {
     "name": "stdout",
     "output_type": "stream",
     "text": [
      "Image's shape :  (312, 384, 24)\n",
      "Image's shape :  (312, 384, 24)\n"
     ]
    }
   ],
   "source": [
    "t1_img = nib.load(os.path.join(t1_path, t1_nii_list[0]))\n",
    "t1_img = t1_img.get_data()\n",
    "\n",
    "t2_img = nib.load(os.path.join(t2_path, t2_nii_list[0]))\n",
    "t2_img = t2_img.get_data()\n",
    "\n",
    "print(\"Image's shape : \", t1_img.shape)\n",
    "print(\"Image's shape : \", t2_img.shape)"
   ]
  }
 ],
 "metadata": {
  "kernelspec": {
   "display_name": "Python 3",
   "language": "python",
   "name": "python3"
  },
  "language_info": {
   "codemirror_mode": {
    "name": "ipython",
    "version": 3
   },
   "file_extension": ".py",
   "mimetype": "text/x-python",
   "name": "python",
   "nbconvert_exporter": "python",
   "pygments_lexer": "ipython3",
   "version": "3.6.8"
  }
 },
 "nbformat": 4,
 "nbformat_minor": 2
}
