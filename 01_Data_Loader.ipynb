{
 "cells": [
  {
   "cell_type": "code",
   "execution_count": 1,
   "metadata": {},
   "outputs": [],
   "source": [
    "import os, cv2\n",
    "import numpy as np\n",
    "import nibabel as nib\n",
    "from matplotlib import pyplot as plt"
   ]
  },
  {
   "cell_type": "code",
   "execution_count": 2,
   "metadata": {},
   "outputs": [],
   "source": [
    "root = './data'\n",
    "seq = ['t1','t2']"
   ]
  },
  {
   "cell_type": "code",
   "execution_count": 3,
   "metadata": {},
   "outputs": [],
   "source": [
    "t1_path = os.path.join(root, seq[0])\n",
    "t2_path = os.path.join(root, seq[1])"
   ]
  },
  {
   "cell_type": "code",
   "execution_count": 4,
   "metadata": {},
   "outputs": [
    {
     "name": "stdout",
     "output_type": "stream",
     "text": [
      "Number of T1 image :  14\n",
      "Number of T2 image :  14\n"
     ]
    }
   ],
   "source": [
    "t1_nii_list = sorted(os.listdir(t1_path))\n",
    "t2_nii_list = sorted(os.listdir(t2_path))\n",
    "\n",
    "print(\"Number of T1 image : \", len(t1_nii_list))\n",
    "print(\"Number of T2 image : \", len(t2_nii_list))"
   ]
  },
  {
   "cell_type": "code",
   "execution_count": 5,
   "metadata": {},
   "outputs": [
    {
     "name": "stdout",
     "output_type": "stream",
     "text": [
      "T1 Image's shape :  (312, 384, 24)\n",
      "T2 Image's shape :  (312, 384, 24)\n"
     ]
    }
   ],
   "source": [
    "t1_img = nib.load(os.path.join(t1_path, t1_nii_list[0]))\n",
    "t1_img = t1_img.get_data()\n",
    "\n",
    "t2_img = nib.load(os.path.join(t2_path, t2_nii_list[0]))\n",
    "t2_img = t2_img.get_data()\n",
    "\n",
    "print(\"T1 Image's shape : \", t1_img.shape)\n",
    "print(\"T2 Image's shape : \", t2_img.shape)"
   ]
  },
  {
   "cell_type": "code",
   "execution_count": 6,
   "metadata": {},
   "outputs": [
    {
     "name": "stdout",
     "output_type": "stream",
     "text": [
      "T1 Image's shape :  (24, 312, 384)\n",
      "T2 Image's shape :  (24, 312, 384)\n"
     ]
    }
   ],
   "source": [
    "# h, w, c -> c, h, w\n",
    "t1_img = np.transpose(t1_img, [2, 0, 1])\n",
    "t2_img = np.transpose(t2_img, [2, 0, 1])\n",
    "\n",
    "print(\"T1 Image's shape : \", t1_img.shape)\n",
    "print(\"T2 Image's shape : \", t2_img.shape)"
   ]
  },
  {
   "cell_type": "code",
   "execution_count": 7,
   "metadata": {},
   "outputs": [
    {
     "name": "stdout",
     "output_type": "stream",
     "text": [
      "3\n",
      "T1 Image's shape :  (342, 312, 384) T2 Image's shape :  (342, 312, 384)\n",
      "T1 Image's shape :  (342, 384, 312, 1) T2 Image's shape :  (342, 384, 312, 1)\n"
     ]
    }
   ],
   "source": [
    "tot_t1 = None\n",
    "tot_t2 = None\n",
    "\n",
    "for idx, (t1, t2) in enumerate(zip(t1_nii_list, t2_nii_list)):\n",
    "#     print(t1, t2)\n",
    "    t1_img = nib.load(os.path.join(t1_path, t1))\n",
    "    t1_img = t1_img.get_data()\n",
    "\n",
    "    t2_img = nib.load(os.path.join(t2_path, t2))\n",
    "    t2_img = t2_img.get_data()\n",
    "    \n",
    "    t1_img = np.transpose(t1_img, [2, 0, 1])\n",
    "    t2_img = np.transpose(t2_img, [2, 0, 1])\n",
    "        \n",
    "    _, h, w = t1_img.shape\n",
    "    if h!=312 or w!=384:\n",
    "        print(idx)\n",
    "        \n",
    "    _, h, w = t2_img.shape\n",
    "    if h!=312 or w!=384:\n",
    "        print(idx)\n",
    "        # cv2.resize : (height, width)\n",
    "        t2_img = np.array([cv2.resize(img, (384, 312)) for img in t2_img])\n",
    "    \n",
    "    if idx == 0:\n",
    "        tot_t1 = t1_img\n",
    "        tot_t2 = t2_img\n",
    "    else:\n",
    "        tot_t1 = np.concatenate((tot_t1, t1_img), axis=0)\n",
    "        tot_t2 = np.concatenate((tot_t2, t2_img), axis=0)\n",
    "    #print(t1, t2)\n",
    "    #print(\"T1 Image's shape : \", t1_img.shape, \"T2 Image's shape : \", t2_img.shape, '\\n')\n",
    "    \n",
    "print(\"T1 Image's shape : \", tot_t1.shape, \"T2 Image's shape : \", tot_t2.shape)\n",
    "\n",
    "tot_t1 = np.rot90(np.expand_dims(tot_t1, -1), 1, axes=(1, 2))\n",
    "tot_t2 = np.rot90(np.expand_dims(tot_t2, -1), 1, axes=(1, 2))\n",
    "print(\"T1 Image's shape : \", tot_t1.shape, \"T2 Image's shape : \", tot_t2.shape)"
   ]
  },
  {
   "cell_type": "code",
   "execution_count": 12,
   "metadata": {},
   "outputs": [],
   "source": [
    "np.save(\"./data/t1.npy\", tot_t1[:, :, 12:-12, :])\n",
    "np.save(\"./data/t2.npy\", tot_t2[:, :, 12:-12, :])"
   ]
  }
 ],
 "metadata": {
  "kernelspec": {
   "display_name": "Python 3",
   "language": "python",
   "name": "python3"
  },
  "language_info": {
   "codemirror_mode": {
    "name": "ipython",
    "version": 3
   },
   "file_extension": ".py",
   "mimetype": "text/x-python",
   "name": "python",
   "nbconvert_exporter": "python",
   "pygments_lexer": "ipython3",
   "version": "3.6.8"
  }
 },
 "nbformat": 4,
 "nbformat_minor": 2
}
